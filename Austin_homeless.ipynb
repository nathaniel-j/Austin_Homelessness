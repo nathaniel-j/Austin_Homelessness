{
 "cells": [
  {
   "cell_type": "markdown",
   "metadata": {},
   "source": [
    "# HOMELESSNESS IN AUSTIN\n",
    "![jwj-Homeless-1417.jpg](jwj-Homeless-1417.jpg)"
   ]
  },
  {
   "cell_type": "markdown",
   "metadata": {},
   "source": [
    "In 2019 Austin, TX city council made a bold move to \"decriminalize homelessness\" by lifting the camping ban inside city limits and getting rid of citations for panhandling and sitting or standing on sidewalks. This measure drew plenty of national attention with both praise and criticism but was ultimately recended in a recent vote in April and Austin begin enforcing the camping ban once again in July. There is no shortage of opinions on what the \"problem\" is and what the city \"should\" be doing, but I began to wonder instead, what COULD the city do. The focus of this report is on summarizing the homelessness situation in Austin in the context of the state and national homeless situation, analyzing the city's goals, metrics and budget, and trying to identify oppotunities for the city to have a bigger impact on its effort to reduce homelessness. "
   ]
  },
  {
   "cell_type": "markdown",
   "metadata": {},
   "source": [
    "The datasets that I used for this analysis are \n",
    "- [CoC System Performance Measures Data](https://www.hudexchange.info/resource/5691/system-performance-measures-data-since-fy-2015/)\n",
    "- [Austin CoC Dashboard](https://files.hudexchange.info/reports/published/CoC_Dash_CoC_TX-503-2019_TX_2019.pdf)\n",
    "- [City Manager report for recommendations on addressing homelessness](http://www.austintexas.gov/edims/pio/document.cfm?id=344008)\n",
    "- [2007 - 2020 Point-in-Time Estimates by State](https://www.huduser.gov/portal/sites/default/files/xls/2007-2020-PIT-Estimates-by-state.xlsx)\n",
    "- [2007 - 2020 Point-in-Time Estimates by CoC ](https://www.huduser.gov/portal/sites/default/files/xls/2007-2020-PIT-Estimates-by-CoC.xlsx)\n",
    "- [Austin population](https://cdn1.austinchamber.com/%20ed/files/GreaterAustinProfileData.xlsx?mtime=20210701135126&_ga=2.131708751.1171804070.1626996919-1803679446.1626996919)"
   ]
  },
  {
   "cell_type": "code",
   "execution_count": 1,
   "metadata": {},
   "outputs": [],
   "source": [
    "# import libraries\n",
    "import pandas as pd\n",
    "import matplotlib.pyplot as plt\n",
    "import seaborn as sns\n",
    "import numpy as np\n",
    "\n",
    "# setup matplotlib to operate in Jupyter Notebooks\n",
    "%matplotlib inline"
   ]
  },
  {
   "cell_type": "code",
   "execution_count": 4,
   "metadata": {},
   "outputs": [],
   "source": [
    "# Pulling the PIT homeless counts from an excel spreadsheet where each year is on a separate page\n",
    "\n",
    "years = ['2007', '2008', '2009', '2010', '2011', '2012', '2013', '2014', '2015', '2016', '2017', '2018', '2019', '2020']\n",
    "\n",
    "def open_PIT_sheet(years):\n",
    "    \"\"\"Open PIT count and concat pages for select columns\"\"\"\n",
    "    \n",
    "    cols = ['Overall Homeless, ', 'Sheltered Total Homeless, ', 'Unsheltered Homeless, ']\n",
    "    \n",
    "    df = pd.DataFrame()\n",
    "    for i in range(len(years)):\n",
    "        new_c = ['State'] + [ c + years[i] for c in cols]\n",
    "        df2 = pd.read_excel('2007-2020-PIT-Estimates-by-state.xlsx', sheet_name= years[i], header=0, usecols=new_c)\n",
    "        df2['year'] = years[i]\n",
    "        df2.rename(columns={new_c[1]: cols[0], new_c[2]: cols[1], new_c[3]: cols[2]}, inplace=True)\n",
    "        df = pd.concat([df, df2], axis=0)\n",
    "    return df\n",
    "\n",
    "pit = open_PIT_sheet(years)\n",
    "\n",
    "# separating the counts for total US count and Texas state count\n",
    "\n",
    "tx_mask = pit['State'] == 'TX' \n",
    "total_mask = pit['State'] == 'Total'\n",
    "tx_pit = pit[tx_mask].copy()\n",
    "total_pit = pit[total_mask].copy()\n",
    "\n",
    "\n",
    "    \n",
    "    "
   ]
  },
  {
   "cell_type": "code",
   "execution_count": 11,
   "metadata": {},
   "outputs": [],
   "source": [
    "years = ['2007', '2008', '2009', '2010', '2011', '2012', '2013', '2014', '2015', '2016', '2017', '2018', '2019', '2020']\n",
    "\n",
    "\n",
    "def open_coc_sheet(years):\n",
    "    \"\"\"Open PIT count and concat pages for select columns\"\"\"\n",
    "    \n",
    "    cols = ['Overall Homeless, ', 'Sheltered Total Homeless, ', 'Unsheltered Homeless, ']\n",
    "    \n",
    "    df = pd.DataFrame()\n",
    "    for i in range(len(years)):\n",
    "        # adding year suffix to column names for the column on each page\n",
    "        new_c = [ c + years[i] for c in cols] + ['CoC Number']\n",
    "        df2 = pd.read_excel('2007-2020-PIT-Estimates-by-CoC.xlsx', sheet_name= years[i], header=0, usecols=new_c)\n",
    "        # add column to identify year\n",
    "        df2['year'] = years[i]\n",
    "        # selecting only the row for Austin\n",
    "        austin_mask = df2['CoC Number'] == 'TX-503'\n",
    "        df2 = df2[austin_mask]\n",
    "        df2.rename(columns={new_c[0]: cols[0], new_c[1]: cols[1], new_c[2]: cols[2]}, inplace=True)\n",
    "        df = pd.concat([df, df2], axis=0)\n",
    "    return df\n",
    "\n",
    "coc = open_coc_sheet(years)\n",
    "\n",
    "# \n"
   ]
  },
  {
   "cell_type": "code",
   "execution_count": 144,
   "metadata": {},
   "outputs": [],
   "source": [
    "# Austin City population from https://www.austintexas.gov/sites/default/files/files/Planning/Demographics/population_history_pub_2019.pdf\n",
    "\n",
    "year = ['2007', '2008', '2009', '2010', '2011', '2012', '2013', '2014', '2015', '2016', '2017', '2018', '2019', '2020']\n",
    "count = [735088, 750525, 774037, 790390, 812025, 832326, 855215, 878733, 900701, 926426, 949587, 967629, 985504, 995484]\n",
    "thousand = [7350.88, 7505.25, 7740.37, 7903.9, 8120.25, 8323.26, 8552.15, 8787.33, 9007.01, 9264.26, 9495.87, 9676.29, 9855.04, 9954.84]\n",
    "\n",
    "\n",
    "\n",
    "austin_pop = pd.DataFrame({'year': year, 'population': count, '10k': thousand})\n"
   ]
  },
  {
   "cell_type": "code",
   "execution_count": 145,
   "metadata": {},
   "outputs": [
    {
     "data": {
      "image/png": "[encoded data removed]",
      "text/plain": [
       "<Figure size 720x432 with 1 Axes>"
      ]
     },
     "metadata": {
      "needs_background": "light"
     },
     "output_type": "display_data"
    }
   ],
   "source": [
    "plt.figure(figsize=(10,6))\n",
    "plt.bar(coc['year'], height = coc['Overall Homeless, '], color='b', label='in shelters')\n",
    "plt.bar(coc['year'], height = coc['Unsheltered Homeless, '], color='r', label='on the street')\n",
    "plt.plot(coc['year'], austin_pop.loc[:,'10k'])\n",
    "\n",
    "plt.xlabel('Year')\n",
    "plt.title('Total homeless count in Austin')\n",
    "plt.legend()\n",
    "\n",
    "plt.show()\n",
    "\n"
   ]
  },
  {
   "cell_type": "code",
   "execution_count": 176,
   "metadata": {},
   "outputs": [
    {
     "data": {
      "image/png": "[encoded data removed]",
      "text/plain": [
       "<Figure size 720x432 with 1 Axes>"
      ]
     },
     "metadata": {
      "needs_background": "light"
     },
     "output_type": "display_data"
    },
    {
     "data": {
      "text/html": [
       "<div>\n",
       "<style scoped>\n",
       "    .dataframe tbody tr th:only-of-type {\n",
       "        vertical-align: middle;\n",
       "    }\n",
       "\n",
       "    .dataframe tbody tr th {\n",
       "        vertical-align: top;\n",
       "    }\n",
       "\n",
       "    .dataframe thead th {\n",
       "        text-align: right;\n",
       "    }\n",
       "</style>\n",
       "<table border=\"1\" class=\"dataframe\">\n",
       "  <thead>\n",
       "    <tr style=\"text-align: right;\">\n",
       "      <th></th>\n",
       "      <th>CoC Number</th>\n",
       "      <th>Overall Homeless,</th>\n",
       "      <th>Sheltered Total Homeless,</th>\n",
       "      <th>Unsheltered Homeless,</th>\n",
       "      <th>year</th>\n",
       "      <th>austin_population</th>\n",
       "      <th>pop_per_homeless</th>\n",
       "      <th>10K_pop</th>\n",
       "      <th>homeless_per_10k</th>\n",
       "      <th>1M_pop</th>\n",
       "      <th>homeless_per_1M</th>\n",
       "    </tr>\n",
       "  </thead>\n",
       "  <tbody>\n",
       "    <tr>\n",
       "      <th>0</th>\n",
       "      <td>TX-503</td>\n",
       "      <td>5281.0</td>\n",
       "      <td>1395.0</td>\n",
       "      <td>3886.0</td>\n",
       "      <td>2007</td>\n",
       "      <td>735088</td>\n",
       "      <td>139.194849</td>\n",
       "      <td>7350.88</td>\n",
       "      <td>7184.173868</td>\n",
       "      <td>0.735088</td>\n",
       "      <td>7184.173868</td>\n",
       "    </tr>\n",
       "    <tr>\n",
       "      <th>1</th>\n",
       "      <td>TX-503</td>\n",
       "      <td>3451.0</td>\n",
       "      <td>1305.0</td>\n",
       "      <td>2146.0</td>\n",
       "      <td>2008</td>\n",
       "      <td>750525</td>\n",
       "      <td>217.480440</td>\n",
       "      <td>7505.25</td>\n",
       "      <td>4598.114653</td>\n",
       "      <td>0.750525</td>\n",
       "      <td>4598.114653</td>\n",
       "    </tr>\n",
       "    <tr>\n",
       "      <th>2</th>\n",
       "      <td>TX-503</td>\n",
       "      <td>2641.0</td>\n",
       "      <td>1418.0</td>\n",
       "      <td>1223.0</td>\n",
       "      <td>2009</td>\n",
       "      <td>774037</td>\n",
       "      <td>293.084816</td>\n",
       "      <td>7740.37</td>\n",
       "      <td>3411.981598</td>\n",
       "      <td>0.774037</td>\n",
       "      <td>3411.981598</td>\n",
       "    </tr>\n",
       "    <tr>\n",
       "      <th>3</th>\n",
       "      <td>TX-503</td>\n",
       "      <td>2087.0</td>\n",
       "      <td>1254.0</td>\n",
       "      <td>833.0</td>\n",
       "      <td>2010</td>\n",
       "      <td>790390</td>\n",
       "      <td>378.720652</td>\n",
       "      <td>7903.90</td>\n",
       "      <td>2640.468629</td>\n",
       "      <td>0.790390</td>\n",
       "      <td>2640.468629</td>\n",
       "    </tr>\n",
       "    <tr>\n",
       "      <th>4</th>\n",
       "      <td>TX-503</td>\n",
       "      <td>2362.0</td>\n",
       "      <td>1358.0</td>\n",
       "      <td>1004.0</td>\n",
       "      <td>2011</td>\n",
       "      <td>812025</td>\n",
       "      <td>343.787045</td>\n",
       "      <td>8120.25</td>\n",
       "      <td>2908.777439</td>\n",
       "      <td>0.812025</td>\n",
       "      <td>2908.777439</td>\n",
       "    </tr>\n",
       "    <tr>\n",
       "      <th>5</th>\n",
       "      <td>TX-503</td>\n",
       "      <td>2244.0</td>\n",
       "      <td>1375.0</td>\n",
       "      <td>869.0</td>\n",
       "      <td>2012</td>\n",
       "      <td>832326</td>\n",
       "      <td>370.911765</td>\n",
       "      <td>8323.26</td>\n",
       "      <td>2696.058996</td>\n",
       "      <td>0.832326</td>\n",
       "      <td>2696.058996</td>\n",
       "    </tr>\n",
       "    <tr>\n",
       "      <th>6</th>\n",
       "      <td>TX-503</td>\n",
       "      <td>2090.0</td>\n",
       "      <td>1325.0</td>\n",
       "      <td>765.0</td>\n",
       "      <td>2013</td>\n",
       "      <td>855215</td>\n",
       "      <td>409.193780</td>\n",
       "      <td>8552.15</td>\n",
       "      <td>2443.829914</td>\n",
       "      <td>0.855215</td>\n",
       "      <td>2443.829914</td>\n",
       "    </tr>\n",
       "    <tr>\n",
       "      <th>7</th>\n",
       "      <td>TX-503</td>\n",
       "      <td>1987.0</td>\n",
       "      <td>1539.0</td>\n",
       "      <td>448.0</td>\n",
       "      <td>2014</td>\n",
       "      <td>878733</td>\n",
       "      <td>442.241067</td>\n",
       "      <td>8787.33</td>\n",
       "      <td>2261.210174</td>\n",
       "      <td>0.878733</td>\n",
       "      <td>2261.210174</td>\n",
       "    </tr>\n",
       "    <tr>\n",
       "      <th>8</th>\n",
       "      <td>TX-503</td>\n",
       "      <td>1832.0</td>\n",
       "      <td>1165.0</td>\n",
       "      <td>667.0</td>\n",
       "      <td>2015</td>\n",
       "      <td>900701</td>\n",
       "      <td>491.649017</td>\n",
       "      <td>9007.01</td>\n",
       "      <td>2033.971318</td>\n",
       "      <td>0.900701</td>\n",
       "      <td>2033.971318</td>\n",
       "    </tr>\n",
       "    <tr>\n",
       "      <th>9</th>\n",
       "      <td>TX-503</td>\n",
       "      <td>2138.0</td>\n",
       "      <td>1322.0</td>\n",
       "      <td>816.0</td>\n",
       "      <td>2016</td>\n",
       "      <td>926426</td>\n",
       "      <td>433.314312</td>\n",
       "      <td>9264.26</td>\n",
       "      <td>2307.793607</td>\n",
       "      <td>0.926426</td>\n",
       "      <td>2307.793607</td>\n",
       "    </tr>\n",
       "    <tr>\n",
       "      <th>10</th>\n",
       "      <td>TX-503</td>\n",
       "      <td>2036.0</td>\n",
       "      <td>1202.0</td>\n",
       "      <td>834.0</td>\n",
       "      <td>2017</td>\n",
       "      <td>949587</td>\n",
       "      <td>466.398330</td>\n",
       "      <td>9495.87</td>\n",
       "      <td>2144.090010</td>\n",
       "      <td>0.949587</td>\n",
       "      <td>2144.090010</td>\n",
       "    </tr>\n",
       "    <tr>\n",
       "      <th>11</th>\n",
       "      <td>TX-503</td>\n",
       "      <td>2147.0</td>\n",
       "      <td>1133.0</td>\n",
       "      <td>1014.0</td>\n",
       "      <td>2018</td>\n",
       "      <td>967629</td>\n",
       "      <td>450.688868</td>\n",
       "      <td>9676.29</td>\n",
       "      <td>2218.825604</td>\n",
       "      <td>0.967629</td>\n",
       "      <td>2218.825604</td>\n",
       "    </tr>\n",
       "    <tr>\n",
       "      <th>12</th>\n",
       "      <td>TX-503</td>\n",
       "      <td>2255.0</td>\n",
       "      <td>1169.0</td>\n",
       "      <td>1086.0</td>\n",
       "      <td>2019</td>\n",
       "      <td>985504</td>\n",
       "      <td>437.030599</td>\n",
       "      <td>9855.04</td>\n",
       "      <td>2288.169302</td>\n",
       "      <td>0.985504</td>\n",
       "      <td>2288.169302</td>\n",
       "    </tr>\n",
       "    <tr>\n",
       "      <th>13</th>\n",
       "      <td>TX-503</td>\n",
       "      <td>2506.0</td>\n",
       "      <td>932.0</td>\n",
       "      <td>1574.0</td>\n",
       "      <td>2020</td>\n",
       "      <td>995484</td>\n",
       "      <td>397.240223</td>\n",
       "      <td>9954.84</td>\n",
       "      <td>2517.368436</td>\n",
       "      <td>0.995484</td>\n",
       "      <td>2517.368436</td>\n",
       "    </tr>\n",
       "  </tbody>\n",
       "</table>\n",
       "</div>"
      ],
      "text/plain": [
       "   CoC Number  Overall Homeless,   Sheltered Total Homeless,   \\\n",
       "0      TX-503              5281.0                      1395.0   \n",
       "1      TX-503              3451.0                      1305.0   \n",
       "2      TX-503              2641.0                      1418.0   \n",
       "3      TX-503              2087.0                      1254.0   \n",
       "4      TX-503              2362.0                      1358.0   \n",
       "5      TX-503              2244.0                      1375.0   \n",
       "6      TX-503              2090.0                      1325.0   \n",
       "7      TX-503              1987.0                      1539.0   \n",
       "8      TX-503              1832.0                      1165.0   \n",
       "9      TX-503              2138.0                      1322.0   \n",
       "10     TX-503              2036.0                      1202.0   \n",
       "11     TX-503              2147.0                      1133.0   \n",
       "12     TX-503              2255.0                      1169.0   \n",
       "13     TX-503              2506.0                       932.0   \n",
       "\n",
       "    Unsheltered Homeless,   year  austin_population  pop_per_homeless  \\\n",
       "0                   3886.0  2007             735088        139.194849   \n",
       "1                   2146.0  2008             750525        217.480440   \n",
       "2                   1223.0  2009             774037        293.084816   \n",
       "3                    833.0  2010             790390        378.720652   \n",
       "4                   1004.0  2011             812025        343.787045   \n",
       "5                    869.0  2012             832326        370.911765   \n",
       "6                    765.0  2013             855215        409.193780   \n",
       "7                    448.0  2014             878733        442.241067   \n",
       "8                    667.0  2015             900701        491.649017   \n",
       "9                    816.0  2016             926426        433.314312   \n",
       "10                   834.0  2017             949587        466.398330   \n",
       "11                  1014.0  2018             967629        450.688868   \n",
       "12                  1086.0  2019             985504        437.030599   \n",
       "13                  1574.0  2020             995484        397.240223   \n",
       "\n",
       "    10K_pop  homeless_per_10k    1M_pop  homeless_per_1M  \n",
       "0   7350.88       7184.173868  0.735088      7184.173868  \n",
       "1   7505.25       4598.114653  0.750525      4598.114653  \n",
       "2   7740.37       3411.981598  0.774037      3411.981598  \n",
       "3   7903.90       2640.468629  0.790390      2640.468629  \n",
       "4   8120.25       2908.777439  0.812025      2908.777439  \n",
       "5   8323.26       2696.058996  0.832326      2696.058996  \n",
       "6   8552.15       2443.829914  0.855215      2443.829914  \n",
       "7   8787.33       2261.210174  0.878733      2261.210174  \n",
       "8   9007.01       2033.971318  0.900701      2033.971318  \n",
       "9   9264.26       2307.793607  0.926426      2307.793607  \n",
       "10  9495.87       2144.090010  0.949587      2144.090010  \n",
       "11  9676.29       2218.825604  0.967629      2218.825604  \n",
       "12  9855.04       2288.169302  0.985504      2288.169302  \n",
       "13  9954.84       2517.368436  0.995484      2517.368436  "
      ]
     },
     "execution_count": 176,
     "metadata": {},
     "output_type": "execute_result"
    }
   ],
   "source": [
    "coc.reset_index(inplace=True, drop=True)\n",
    "coc['austin_population'] = austin_pop.loc[:,'population']\n",
    "coc['pop_per_homeless'] = coc['austin_population'] / coc['Overall Homeless, ']\n",
    "coc['1M_pop'] = coc['austin_population'] / 1000000\n",
    "coc['homeless_per_1M'] = coc['Overall Homeless, '] / coc['1M_pop']\n",
    "coc['10K_pop'] = coc['austin_population'] / 100\n",
    "\n",
    "\n",
    "plt.figure(figsize=(10,6))\n",
    "plt.scatter(coc['year'], coc['Overall Homeless, '])\n",
    "plt.plot(coc['year'], coc['Overall Homeless, '], label='Total Homeless')\n",
    "plt.plot(coc['year'], coc['homeless_per_1M'], label='Homeless per Million people in Austin')\n",
    "#plt.plot(coc['year'], coc['10K_pop'])\n",
    "plt.show()\n",
    "coc"
   ]
  },
  {
   "cell_type": "code",
   "execution_count": 41,
   "metadata": {},
   "outputs": [
    {
     "data": {
      "image/png": "[encoded data removed]",
      "text/plain": [
       "<Figure size 720x432 with 1 Axes>"
      ]
     },
     "metadata": {
      "needs_background": "light"
     },
     "output_type": "display_data"
    }
   ],
   "source": [
    "plt.figure(figsize=(10,6))\n",
    "#plt.plot(coc['year'], coc['Sheltered Total Homeless, '], color='b', label='total homeless')\n",
    "#plt.plot(coc['year'], coc['Unsheltered Homeless, '], color='r', label='on the street')\n",
    "plt.xlabel('Year')\n",
    "plt.title('Total homeless count in Austin')\n",
    "\n",
    "plt.stackplot(coc['year'], [coc['Unsheltered Homeless, '], coc['Sheltered Total Homeless, ']], labels=['On the streets', 'In Shelters'])\n",
    "plt.legend()\n",
    "plt.show()"
   ]
  },
  {
   "cell_type": "code",
   "execution_count": 42,
   "metadata": {},
   "outputs": [
    {
     "data": {
      "image/png": "[encoded data removed]",
      "text/plain": [
       "<Figure size 720x432 with 1 Axes>"
      ]
     },
     "metadata": {
      "needs_background": "light"
     },
     "output_type": "display_data"
    }
   ],
   "source": [
    "plt.figure(figsize=(10,6))\n",
    "plt.plot(coc['year'], coc['Sheltered Total Homeless, '], color='b', label='total homeless')\n",
    "plt.plot(coc['year'], coc['Unsheltered Homeless, '], color='r', label='on the street')\n",
    "plt.xlabel('Year')\n",
    "plt.title('Total homeless count in Austin')\n",
    "\n",
    "#plt.stackplot(coc['year'], [coc['Unsheltered Homeless, '], coc['Sheltered Total Homeless, ']], labels=['On the streets', 'In Shelters'])\n",
    "plt.legend()\n",
    "plt.show()"
   ]
  },
  {
   "cell_type": "code",
   "execution_count": null,
   "metadata": {},
   "outputs": [],
   "source": []
  },
  {
   "cell_type": "code",
   "execution_count": null,
   "metadata": {},
   "outputs": [],
   "source": []
  },
  {
   "cell_type": "code",
   "execution_count": null,
   "metadata": {},
   "outputs": [],
   "source": []
  },
  {
   "cell_type": "code",
   "execution_count": 124,
   "metadata": {},
   "outputs": [
    {
     "data": {
      "text/plain": [
       "[<matplotlib.lines.Line2D at 0x210aa2b8a60>]"
      ]
     },
     "execution_count": 124,
     "metadata": {},
     "output_type": "execute_result"
    },
    {
     "data": {
      "image/png": "[encoded data removed]",
      "text/plain": [
       "<Figure size 432x288 with 1 Axes>"
      ]
     },
     "metadata": {
      "needs_background": "light"
     },
     "output_type": "display_data"
    }
   ],
   "source": [
    "plt.plot(coc['year'], austin_pop.loc[1:,'population'])"
   ]
  },
  {
   "cell_type": "code",
   "execution_count": null,
   "metadata": {},
   "outputs": [],
   "source": []
  },
  {
   "cell_type": "code",
   "execution_count": null,
   "metadata": {},
   "outputs": [],
   "source": []
  },
  {
   "cell_type": "code",
   "execution_count": 113,
   "metadata": {},
   "outputs": [
    {
     "data": {
      "text/html": [
       "<div>\n",
       "<style scoped>\n",
       "    .dataframe tbody tr th:only-of-type {\n",
       "        vertical-align: middle;\n",
       "    }\n",
       "\n",
       "    .dataframe tbody tr th {\n",
       "        vertical-align: top;\n",
       "    }\n",
       "\n",
       "    .dataframe thead th {\n",
       "        text-align: right;\n",
       "    }\n",
       "</style>\n",
       "<table border=\"1\" class=\"dataframe\">\n",
       "  <thead>\n",
       "    <tr style=\"text-align: right;\">\n",
       "      <th></th>\n",
       "      <th>location</th>\n",
       "      <th>2000</th>\n",
       "      <th>2010</th>\n",
       "      <th>2020</th>\n",
       "      <th>percent_change_2000-2010</th>\n",
       "      <th>percent_change_2010_2020</th>\n",
       "    </tr>\n",
       "  </thead>\n",
       "  <tbody>\n",
       "    <tr>\n",
       "      <th>10</th>\n",
       "      <td>Austin</td>\n",
       "      <td>670654</td>\n",
       "      <td>801829</td>\n",
       "      <td>995484</td>\n",
       "      <td>0.195593</td>\n",
       "      <td>0.241517</td>\n",
       "    </tr>\n",
       "  </tbody>\n",
       "</table>\n",
       "</div>"
      ],
      "text/plain": [
       "   location    2000    2010    2020 percent_change_2000-2010  \\\n",
       "10  Austin   670654  801829  995484                 0.195593   \n",
       "\n",
       "   percent_change_2010_2020  \n",
       "10                 0.241517  "
      ]
     },
     "execution_count": 113,
     "metadata": {},
     "output_type": "execute_result"
    }
   ],
   "source": [
    "balls= pd.read_excel('GreaterAustinPopulationData.xlsx', header=3)\n",
    "current = balls.iloc[1:19,:6]\n",
    "current = current.drop(labels=9, axis=0)\n",
    "current.rename(columns={'Unnamed: 0': 'location', 'Percent change': 'percent_change_2000-2010', 'Unnamed: 5': 'percent_change_2010_2020'}, inplace=True)\n",
    "current_mask = current['location']=='Austin '\n",
    "austin_pop = current[current_mask]\n",
    "#austin_\n",
    "a_years = [2000, '2010', '2020']\n",
    "#a_pops = [austin_pop[[a_years]]]\n",
    "austin_pop"
   ]
  },
  {
   "cell_type": "code",
   "execution_count": null,
   "metadata": {},
   "outputs": [],
   "source": []
  },
  {
   "cell_type": "code",
   "execution_count": 116,
   "metadata": {},
   "outputs": [
    {
     "data": {
      "text/html": [
       "<div>\n",
       "<style scoped>\n",
       "    .dataframe tbody tr th:only-of-type {\n",
       "        vertical-align: middle;\n",
       "    }\n",
       "\n",
       "    .dataframe tbody tr th {\n",
       "        vertical-align: top;\n",
       "    }\n",
       "\n",
       "    .dataframe thead th {\n",
       "        text-align: right;\n",
       "    }\n",
       "</style>\n",
       "<table border=\"1\" class=\"dataframe\">\n",
       "  <thead>\n",
       "    <tr style=\"text-align: right;\">\n",
       "      <th></th>\n",
       "      <th>year</th>\n",
       "      <th>population</th>\n",
       "    </tr>\n",
       "  </thead>\n",
       "  <tbody>\n",
       "    <tr>\n",
       "      <th>0</th>\n",
       "      <td>2006</td>\n",
       "      <td>718_912</td>\n",
       "    </tr>\n",
       "    <tr>\n",
       "      <th>1</th>\n",
       "      <td>2007</td>\n",
       "      <td>735_088</td>\n",
       "    </tr>\n",
       "    <tr>\n",
       "      <th>2</th>\n",
       "      <td>2008</td>\n",
       "      <td>750_525</td>\n",
       "    </tr>\n",
       "    <tr>\n",
       "      <th>3</th>\n",
       "      <td>2009</td>\n",
       "      <td>774_037</td>\n",
       "    </tr>\n",
       "    <tr>\n",
       "      <th>4</th>\n",
       "      <td>2010</td>\n",
       "      <td>790_390</td>\n",
       "    </tr>\n",
       "    <tr>\n",
       "      <th>5</th>\n",
       "      <td>2011</td>\n",
       "      <td>812_025</td>\n",
       "    </tr>\n",
       "    <tr>\n",
       "      <th>6</th>\n",
       "      <td>2012</td>\n",
       "      <td>832_326</td>\n",
       "    </tr>\n",
       "    <tr>\n",
       "      <th>7</th>\n",
       "      <td>2013</td>\n",
       "      <td>855_215</td>\n",
       "    </tr>\n",
       "    <tr>\n",
       "      <th>8</th>\n",
       "      <td>2014</td>\n",
       "      <td>878_733</td>\n",
       "    </tr>\n",
       "    <tr>\n",
       "      <th>9</th>\n",
       "      <td>2015</td>\n",
       "      <td>900_701</td>\n",
       "    </tr>\n",
       "    <tr>\n",
       "      <th>10</th>\n",
       "      <td>2016</td>\n",
       "      <td>926_426</td>\n",
       "    </tr>\n",
       "    <tr>\n",
       "      <th>11</th>\n",
       "      <td>2017</td>\n",
       "      <td>949_587</td>\n",
       "    </tr>\n",
       "    <tr>\n",
       "      <th>12</th>\n",
       "      <td>2018</td>\n",
       "      <td>967_629</td>\n",
       "    </tr>\n",
       "    <tr>\n",
       "      <th>13</th>\n",
       "      <td>2019</td>\n",
       "      <td>985_504</td>\n",
       "    </tr>\n",
       "    <tr>\n",
       "      <th>14</th>\n",
       "      <td>2020</td>\n",
       "      <td>995_484</td>\n",
       "    </tr>\n",
       "  </tbody>\n",
       "</table>\n",
       "</div>"
      ],
      "text/plain": [
       "    year population\n",
       "0   2006    718_912\n",
       "1   2007    735_088\n",
       "2   2008    750_525\n",
       "3   2009    774_037\n",
       "4   2010    790_390\n",
       "5   2011    812_025\n",
       "6   2012    832_326\n",
       "7   2013    855_215\n",
       "8   2014    878_733\n",
       "9   2015    900_701\n",
       "10  2016    926_426\n",
       "11  2017    949_587\n",
       "12  2018    967_629\n",
       "13  2019    985_504\n",
       "14  2020    995_484"
      ]
     },
     "execution_count": 116,
     "metadata": {},
     "output_type": "execute_result"
    }
   ],
   "source": [
    "year = ['2006', '2007', '2008', '2009', '2010', '2011', '2012', '2013', '2014', '2015', '2016', '2017', '2018', '2019', '2020']\n",
    "count = [718912, 735088, 750525, 774037, 790390, 812025, 832326, 855215, 878733, 900701, 926426, 949587, 967629, 985504, 995484]\n",
    "\n",
    "austin_pop = pd.DataFrame({'year': year, 'population': count})\n",
    "austin_pop"
   ]
  },
  {
   "cell_type": "code",
   "execution_count": null,
   "metadata": {},
   "outputs": [],
   "source": [
    "# import the System Performace Measures Data\n",
    "\n",
    "# sheets from excel document to be read in and combined\n",
    "sheets = ['2020', '2019', '2018', '2017', '2016', '2015']\n",
    "\n",
    "def import_SPMD(year_list):\n",
    "    \"\"\"import and SPD as pandas dataframe\"\"\"\n",
    "    df = pd.read_excel('System-Performance-Measures-Data-Since-FY-2015.xlsx', sheet_name= year_list[0], header=[1])\n",
    "    df['year'] = year_list[0] \n",
    "    for year in year_list[1:]:\n",
    "        next_df = pd.read_excel('system_performance_data.xlsx', sheet_name= year, header=[1])\n",
    "        next_df['year'] = year\n",
    "        df = pd.concat([df, next_df], axis=0)\n",
    "        \n",
    "    return df\n",
    "\n",
    "spmd = import_SPMD(sheets)\n",
    "spmd.shape\n",
    "\n",
    "  "
   ]
  },
  {
   "cell_type": "code",
   "execution_count": null,
   "metadata": {},
   "outputs": [],
   "source": [
    "# write a function to delete 2017 \"ES-SH-TH-PH 1st Time Homeless\" last row\n",
    "# write a function to clean up multi-indexing\n",
    "# write a function to reformat the \"SO\" columns\n",
    "# write a function to remove all columns that I do not use "
   ]
  },
  {
   "cell_type": "code",
   "execution_count": null,
   "metadata": {},
   "outputs": [],
   "source": [
    "# write a function to group data by the year for quick analysis\n",
    "spmd_by_year = spmd.groupby('year')\n",
    "\n",
    "\n",
    "ball_group = balls.groupby('year').sum()\n",
    "new_homeless_by_year = ball_group['ES-SH-TH-PH 1st Time Homeless']\n",
    "homeless_count_by_year = ball_group['Total HMIS Count']\n",
    "new_homeless_by_year\n",
    "homeless_count_by_year"
   ]
  },
  {
   "cell_type": "code",
   "execution_count": null,
   "metadata": {},
   "outputs": [],
   "source": []
  },
  {
   "cell_type": "code",
   "execution_count": null,
   "metadata": {},
   "outputs": [],
   "source": []
  },
  {
   "cell_type": "code",
   "execution_count": 126,
   "metadata": {},
   "outputs": [
    {
     "name": "stdout",
     "output_type": "stream",
     "text": [
      "[718912, 735088, 750525, 774037, 790390, 812025, 832326, 855215, 878733, 900701, 926426, 949587, 967629, 985504, 995484]\n"
     ]
    }
   ],
   "source": [
    "count = ['718_912', '735_088', '750_525', '774_037', '790_390', '812_025', '832_326', '855_215', '878_733', '900_701', '926_426',\\\n",
    "         '949_587', '967_629', '985_504', '995_484']\n",
    "recount = []\n",
    "for c in count:\n",
    "    c = int(c)\n",
    "    recount.append(c)\n",
    "    \n",
    "print(recount)"
   ]
  },
  {
   "cell_type": "code",
   "execution_count": null,
   "metadata": {},
   "outputs": [],
   "source": []
  },
  {
   "cell_type": "code",
   "execution_count": null,
   "metadata": {},
   "outputs": [],
   "source": []
  },
  {
   "cell_type": "code",
   "execution_count": null,
   "metadata": {},
   "outputs": [],
   "source": []
  },
  {
   "cell_type": "markdown",
   "metadata": {},
   "source": [
    "![homelessness_diagram.jpg](homelessness_diagram.jpg)"
   ]
  },
  {
   "cell_type": "code",
   "execution_count": null,
   "metadata": {},
   "outputs": [],
   "source": []
  },
  {
   "cell_type": "code",
   "execution_count": null,
   "metadata": {},
   "outputs": [],
   "source": []
  }
 ],
 "metadata": {
  "kernelspec": {
   "display_name": "Python 3",
   "language": "python",
   "name": "python3"
  },
  "language_info": {
   "codemirror_mode": {
    "name": "ipython",
    "version": 3
   },
   "file_extension": ".py",
   "mimetype": "text/x-python",
   "name": "python",
   "nbconvert_exporter": "python",
   "pygments_lexer": "ipython3",
   "version": "3.8.3"
  }
 },
 "nbformat": 4,
 "nbformat_minor": 4
}

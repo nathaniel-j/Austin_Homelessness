{
 "cells": [
  {
   "cell_type": "markdown",
   "metadata": {},
   "source": [
    "# HOMELESSNESS IN AUSTIN\n",
    "![jwj-Homeless-1417.jpg](jwj-Homeless-1417.jpg)"
   ]
  },
  {
   "cell_type": "markdown",
   "metadata": {},
   "source": [
    "In 2019, Austin, TX city council made a bold move to \"decriminalize homelessness\" by lifting the camping ban inside city limits and getting rid of citations for panhandling and sitting or standing on sidewalks. This measure drew plenty of national attention with both praise and criticism but was ultimately recended in a recent vote in April and Austin begin enforcing the camping ban once again in July. There is no shortage of opinions on what the \"problem\" is and what the city \"should\" be doing, but I began to wonder instead, what COULD the city do. The focus of this report is on summarizing the homelessness situation in Austin in the context of the state and national homeless situation, analyzing the city's goals, metrics and budget, and trying to identify oppotunities for the city to have a bigger impact on its effort to reduce homelessness. "
   ]
  },
  {
   "cell_type": "markdown",
   "metadata": {},
   "source": [
    "The datasets that I used for this analysis are \n",
    "- [CoC System Performance Measures Data](https://www.hudexchange.info/resource/5691/system-performance-measures-data-since-fy-2015/)\n",
    "- [Austin CoC Dashboard](https://files.hudexchange.info/reports/published/CoC_Dash_CoC_TX-503-2019_TX_2019.pdf)\n",
    "- [City Manager report for recommendations on addressing homelessness](http://www.austintexas.gov/edims/pio/document.cfm?id=344008)\n",
    "- [2007 - 2020 Point-in-Time Estimates by State](https://www.huduser.gov/portal/sites/default/files/xls/2007-2020-PIT-Estimates-by-state.xlsx)\n",
    "- [2007 - 2020 Point-in-Time Estimates by CoC ](https://www.huduser.gov/portal/sites/default/files/xls/2007-2020-PIT-Estimates-by-CoC.xlsx)\n",
    "- [Austin population](https://cdn1.austinchamber.com/%20ed/files/GreaterAustinProfileData.xlsx?mtime=20210701135126&_ga=2.131708751.1171804070.1626996919-1803679446.1626996919)"
   ]
  },
  {
   "cell_type": "code",
   "execution_count": 1,
   "metadata": {},
   "outputs": [],
   "source": [
    "# import libraries\n",
    "import pandas as pd\n",
    "import matplotlib.pyplot as plt\n",
    "import seaborn as sns\n",
    "import numpy as np\n",
    "\n",
    "# setup matplotlib to operate in Jupyter Notebooks\n",
    "%matplotlib inline"
   ]
  },
  {
   "cell_type": "markdown",
   "metadata": {},
   "source": [
    "Importing the data and reformatting for clarity"
   ]
  },
  {
   "cell_type": "code",
   "execution_count": 2,
   "metadata": {},
   "outputs": [],
   "source": [
    "# Pulling the PIT homeless counts for US total and Texas from an excel spreadsheet where each year is on a separate page\n",
    "\n",
    "years = ['2007', '2008', '2009', '2010', '2011', '2012', '2013', '2014', '2015', '2016', '2017', '2018', '2019', '2020']\n",
    "\n",
    "def open_PIT_sheet(years):\n",
    "    \"\"\"Open PIT count and concat pages for select columns\"\"\"\n",
    "    \n",
    "    cols = ['Overall Homeless, ', 'Sheltered Total Homeless, ', 'Unsheltered Homeless, ']\n",
    "    \n",
    "    df = pd.DataFrame()\n",
    "    for i in range(len(years)):\n",
    "        new_c = ['State'] + [ c + years[i] for c in cols]\n",
    "        df2 = pd.read_excel('2007-2020-PIT-Estimates-by-state.xlsx', sheet_name= years[i], header=0, usecols=new_c)\n",
    "        df2['year'] = years[i]\n",
    "        df2.rename(columns={new_c[1]: cols[0], new_c[2]: cols[1], new_c[3]: cols[2]}, inplace=True)\n",
    "        df = pd.concat([df, df2], axis=0)\n",
    "    return df\n",
    "\n",
    "pit = open_PIT_sheet(years)\n",
    "\n",
    "# separating the counts for total US count and Texas state count\n",
    "\n",
    "tx_mask = pit['State'] == 'TX' \n",
    "total_mask = pit['State'] == 'Total'\n",
    "tx_pit = pit[tx_mask].copy()\n",
    "total_pit = pit[total_mask].copy()\n",
    "\n",
    "\n",
    "    \n",
    "    "
   ]
  },
  {
   "cell_type": "code",
   "execution_count": 4,
   "metadata": {},
   "outputs": [
    {
     "data": {
      "text/html": [
       "<div>\n",
       "<style scoped>\n",
       "    .dataframe tbody tr th:only-of-type {\n",
       "        vertical-align: middle;\n",
       "    }\n",
       "\n",
       "    .dataframe tbody tr th {\n",
       "        vertical-align: top;\n",
       "    }\n",
       "\n",
       "    .dataframe thead th {\n",
       "        text-align: right;\n",
       "    }\n",
       "</style>\n",
       "<table border=\"1\" class=\"dataframe\">\n",
       "  <thead>\n",
       "    <tr style=\"text-align: right;\">\n",
       "      <th></th>\n",
       "      <th>CoC Number</th>\n",
       "      <th>Overall Homeless,</th>\n",
       "      <th>Sheltered Total Homeless,</th>\n",
       "      <th>Unsheltered Homeless,</th>\n",
       "      <th>year</th>\n",
       "    </tr>\n",
       "  </thead>\n",
       "  <tbody>\n",
       "    <tr>\n",
       "      <th>0</th>\n",
       "      <td>TX-503</td>\n",
       "      <td>5281.0</td>\n",
       "      <td>1395.0</td>\n",
       "      <td>3886.0</td>\n",
       "      <td>2007</td>\n",
       "    </tr>\n",
       "    <tr>\n",
       "      <th>1</th>\n",
       "      <td>TX-503</td>\n",
       "      <td>3451.0</td>\n",
       "      <td>1305.0</td>\n",
       "      <td>2146.0</td>\n",
       "      <td>2008</td>\n",
       "    </tr>\n",
       "    <tr>\n",
       "      <th>2</th>\n",
       "      <td>TX-503</td>\n",
       "      <td>2641.0</td>\n",
       "      <td>1418.0</td>\n",
       "      <td>1223.0</td>\n",
       "      <td>2009</td>\n",
       "    </tr>\n",
       "    <tr>\n",
       "      <th>3</th>\n",
       "      <td>TX-503</td>\n",
       "      <td>2087.0</td>\n",
       "      <td>1254.0</td>\n",
       "      <td>833.0</td>\n",
       "      <td>2010</td>\n",
       "    </tr>\n",
       "    <tr>\n",
       "      <th>4</th>\n",
       "      <td>TX-503</td>\n",
       "      <td>2362.0</td>\n",
       "      <td>1358.0</td>\n",
       "      <td>1004.0</td>\n",
       "      <td>2011</td>\n",
       "    </tr>\n",
       "  </tbody>\n",
       "</table>\n",
       "</div>"
      ],
      "text/plain": [
       "  CoC Number  Overall Homeless,   Sheltered Total Homeless,   \\\n",
       "0     TX-503              5281.0                      1395.0   \n",
       "1     TX-503              3451.0                      1305.0   \n",
       "2     TX-503              2641.0                      1418.0   \n",
       "3     TX-503              2087.0                      1254.0   \n",
       "4     TX-503              2362.0                      1358.0   \n",
       "\n",
       "   Unsheltered Homeless,   year  \n",
       "0                  3886.0  2007  \n",
       "1                  2146.0  2008  \n",
       "2                  1223.0  2009  \n",
       "3                   833.0  2010  \n",
       "4                  1004.0  2011  "
      ]
     },
     "execution_count": 4,
     "metadata": {},
     "output_type": "execute_result"
    }
   ],
   "source": [
    "# Pulling the PIT homeless counts for Austin from an excel spreadsheet where each year is on a separate page\n",
    "\n",
    "years = ['2007', '2008', '2009', '2010', '2011', '2012', '2013', '2014', '2015', '2016', '2017', '2018', '2019', '2020']\n",
    "\n",
    "\n",
    "def open_coc_sheet(years):\n",
    "    \"\"\"Open PIT count and concat pages for select columns\"\"\"\n",
    "    \n",
    "    cols = ['Overall Homeless, ', 'Sheltered Total Homeless, ', 'Unsheltered Homeless, ']\n",
    "    \n",
    "    df = pd.DataFrame()\n",
    "    for i in range(len(years)):\n",
    "        # adding year suffix to column names for the column on each page\n",
    "        new_c = [ c + years[i] for c in cols] + ['CoC Number']\n",
    "        df2 = pd.read_excel('2007-2020-PIT-Estimates-by-CoC.xlsx', sheet_name= years[i], header=0, usecols=new_c)\n",
    "        # add column to identify year\n",
    "        df2['year'] = years[i]\n",
    "        # selecting only the row for Austin\n",
    "        austin_mask = df2['CoC Number'] == 'TX-503'\n",
    "        df2 = df2[austin_mask]\n",
    "        df2.rename(columns={new_c[0]: cols[0], new_c[1]: cols[1], new_c[2]: cols[2]}, inplace=True)\n",
    "        df = pd.concat([df, df2], axis=0)\n",
    "    return df\n",
    "\n",
    "coc = open_coc_sheet(years)\n",
    "coc.reset_index(inplace=True, drop=True)\n",
    "\n",
    "coc.head()\n"
   ]
  },
  {
   "cell_type": "code",
   "execution_count": 5,
   "metadata": {},
   "outputs": [],
   "source": [
    "# Austin City population from https://www.austintexas.gov/sites/default/files/files/Planning/Demographics/population_history_pub_2019.pdf\n",
    "\n",
    "year = ['2007', '2008', '2009', '2010', '2011', '2012', '2013', '2014', '2015', '2016', '2017', '2018', '2019', '2020']\n",
    "count = [735088, 750525, 774037, 790390, 812025, 832326, 855215, 878733, 900701, 926426, 949587, 967629, 985504, 995484]\n",
    "\n",
    "austin_pop = pd.DataFrame({'year': year, 'population': count})\n",
    "\n",
    "# Adding population statistics to the Austin CoC dataframe\n",
    "coc['austin_population'] = austin_pop.loc[:,'population']\n",
    "coc['pop_per_homeless'] = coc['austin_population'] / coc['Overall Homeless, ']\n",
    "coc['1M_pop'] = coc['austin_population'] / 1000000\n",
    "coc['homeless_per_1M'] = coc['Overall Homeless, '] / coc['1M_pop']\n",
    "coc['10K_pop'] = coc['austin_population'] / 100"
   ]
  },
  {
   "cell_type": "markdown",
   "metadata": {},
   "source": [
    "experimental diagram - trying to show homelessness population trends in Austin \n",
    "\n",
    "- the colors are bad\n",
    "- not sure if I want to separate sheltered\n",
    "- doesnt have good visual impact yet\n",
    "\n",
    "\n"
   ]
  },
  {
   "cell_type": "code",
   "execution_count": 6,
   "metadata": {},
   "outputs": [
    {
     "data": {
      "image/png": "[encoded data removed]",
      "text/plain": [
       "<Figure size 720x432 with 1 Axes>"
      ]
     },
     "metadata": {
      "needs_background": "light"
     },
     "output_type": "display_data"
    }
   ],
   "source": [
    "plt.figure(figsize=(10,6))\n",
    "plt.bar(coc['year'], height = coc['Overall Homeless, '], color='b', label='in shelters')\n",
    "plt.bar(coc['year'], height = coc['Unsheltered Homeless, '], color='r', label='on the street')\n",
    "\n",
    "plt.xlabel('Year')\n",
    "plt.title('Total homeless count in Austin')\n",
    "plt.legend()\n",
    "\n",
    "plt.show()\n",
    "\n"
   ]
  },
  {
   "cell_type": "markdown",
   "metadata": {},
   "source": [
    "experimental diagram - trying to show homelessness relative to city growth"
   ]
  },
  {
   "cell_type": "code",
   "execution_count": 7,
   "metadata": {},
   "outputs": [
    {
     "data": {
      "image/png": "[encoded data removed]",
      "text/plain": [
       "<Figure size 720x432 with 1 Axes>"
      ]
     },
     "metadata": {
      "needs_background": "light"
     },
     "output_type": "display_data"
    }
   ],
   "source": [
    "\n",
    "\n",
    "plt.figure(figsize=(10,6))\n",
    "plt.scatter(coc['year'], coc['Overall Homeless, '])\n",
    "plt.plot(coc['year'], coc['Overall Homeless, '], label='Total Homeless')\n",
    "plt.plot(coc['year'], coc['homeless_per_1M'], label='Homeless per Million people in Austin')\n",
    "plt.title('Homelessness in Austin - raw vs per capita')\n",
    "plt.legend()\n",
    "#plt.plot(coc['year'], coc['10K_pop'])\n",
    "plt.show()\n"
   ]
  },
  {
   "cell_type": "markdown",
   "metadata": {},
   "source": [
    "experimental diagram - trying to visualize homelessness trends in Austin"
   ]
  },
  {
   "cell_type": "code",
   "execution_count": 8,
   "metadata": {},
   "outputs": [
    {
     "data": {
      "image/png": "[encoded data removed]",
      "text/plain": [
       "<Figure size 720x432 with 1 Axes>"
      ]
     },
     "metadata": {
      "needs_background": "light"
     },
     "output_type": "display_data"
    }
   ],
   "source": [
    "plt.figure(figsize=(10,6))\n",
    "#plt.plot(coc['year'], coc['Sheltered Total Homeless, '], color='b', label='total homeless')\n",
    "#plt.plot(coc['year'], coc['Unsheltered Homeless, '], color='r', label='on the street')\n",
    "plt.xlabel('Year')\n",
    "plt.title('Total homeless count in Austin')\n",
    "\n",
    "plt.stackplot(coc['year'], [coc['Unsheltered Homeless, '], coc['Sheltered Total Homeless, ']], labels=['On the streets', 'In Shelters'])\n",
    "plt.legend()\n",
    "plt.show()"
   ]
  },
  {
   "cell_type": "markdown",
   "metadata": {},
   "source": [
    "experimental diagram - trying to show homelessness trends in Austin"
   ]
  },
  {
   "cell_type": "code",
   "execution_count": 9,
   "metadata": {},
   "outputs": [
    {
     "data": {
      "image/png": "[encoded data removed]",
      "text/plain": [
       "<Figure size 720x432 with 1 Axes>"
      ]
     },
     "metadata": {
      "needs_background": "light"
     },
     "output_type": "display_data"
    }
   ],
   "source": [
    "plt.figure(figsize=(10,6))\n",
    "plt.plot(coc['year'], coc['Sheltered Total Homeless, '], color='b', label='total homeless')\n",
    "plt.plot(coc['year'], coc['Unsheltered Homeless, '], color='r', label='on the street')\n",
    "plt.xlabel('Year')\n",
    "plt.title('Total homeless count in Austin')\n",
    "\n",
    "#plt.stackplot(coc['year'], [coc['Unsheltered Homeless, '], coc['Sheltered Total Homeless, ']], labels=['On the streets', 'In Shelters'])\n",
    "plt.legend()\n",
    "plt.show()"
   ]
  },
  {
   "cell_type": "code",
   "execution_count": null,
   "metadata": {},
   "outputs": [],
   "source": []
  },
  {
   "cell_type": "code",
   "execution_count": null,
   "metadata": {},
   "outputs": [],
   "source": []
  },
  {
   "cell_type": "code",
   "execution_count": null,
   "metadata": {},
   "outputs": [],
   "source": []
  },
  {
   "cell_type": "code",
   "execution_count": null,
   "metadata": {},
   "outputs": [],
   "source": []
  },
  {
   "cell_type": "code",
   "execution_count": null,
   "metadata": {},
   "outputs": [],
   "source": []
  },
  {
   "cell_type": "code",
   "execution_count": null,
   "metadata": {},
   "outputs": [],
   "source": []
  },
  {
   "cell_type": "code",
   "execution_count": null,
   "metadata": {},
   "outputs": [],
   "source": []
  },
  {
   "cell_type": "code",
   "execution_count": null,
   "metadata": {},
   "outputs": [],
   "source": []
  },
  {
   "cell_type": "code",
   "execution_count": 10,
   "metadata": {},
   "outputs": [],
   "source": [
    "# write a function to delete 2017 \"ES-SH-TH-PH 1st Time Homeless\" last row\n",
    "# write a function to clean up multi-indexing\n",
    "# write a function to reformat the \"SO\" columns\n",
    "# write a function to remove all columns that I do not use"
   ]
  },
  {
   "cell_type": "code",
   "execution_count": 11,
   "metadata": {},
   "outputs": [
    {
     "data": {
      "text/plain": [
       "(2376, 125)"
      ]
     },
     "execution_count": 11,
     "metadata": {},
     "output_type": "execute_result"
    }
   ],
   "source": [
    "# import the System Performace Measures Data\n",
    "\n",
    "# sheets from excel document to be read in and combined\n",
    "sheets = ['2020', '2019', '2018', '2017', '2016', '2015']\n",
    "\n",
    "def import_SPMD(year_list):\n",
    "    \"\"\"import and SPD as pandas dataframe\"\"\"\n",
    "    df = pd.read_excel('System-Performance-Measures-Data-Since-FY-2015.xlsx', sheet_name= year_list[0], header=[1])\n",
    "    df['year'] = year_list[0] \n",
    "    for year in year_list[1:]:\n",
    "        next_df = pd.read_excel('system_performance_data.xlsx', sheet_name= year, header=[1])\n",
    "        next_df['year'] = year\n",
    "        df = pd.concat([df, next_df], axis=0)\n",
    "        \n",
    "    return df\n",
    "\n",
    "spmd = import_SPMD(sheets)\n",
    "spmd.shape\n",
    "\n",
    "  "
   ]
  },
  {
   "cell_type": "code",
   "execution_count": null,
   "metadata": {},
   "outputs": [],
   "source": []
  },
  {
   "cell_type": "code",
   "execution_count": null,
   "metadata": {},
   "outputs": [],
   "source": []
  },
  {
   "cell_type": "code",
   "execution_count": null,
   "metadata": {},
   "outputs": [],
   "source": []
  },
  {
   "cell_type": "code",
   "execution_count": null,
   "metadata": {},
   "outputs": [],
   "source": []
  },
  {
   "cell_type": "code",
   "execution_count": null,
   "metadata": {},
   "outputs": [],
   "source": []
  },
  {
   "cell_type": "code",
   "execution_count": null,
   "metadata": {},
   "outputs": [],
   "source": []
  },
  {
   "cell_type": "code",
   "execution_count": null,
   "metadata": {},
   "outputs": [],
   "source": []
  },
  {
   "cell_type": "markdown",
   "metadata": {},
   "source": [
    "Illustration of CoC flow pathways"
   ]
  },
  {
   "cell_type": "markdown",
   "metadata": {},
   "source": [
    "![homelessness_diagram.jpg](homelessness_diagram.jpg)"
   ]
  },
  {
   "cell_type": "code",
   "execution_count": null,
   "metadata": {},
   "outputs": [],
   "source": []
  },
  {
   "cell_type": "code",
   "execution_count": null,
   "metadata": {},
   "outputs": [],
   "source": []
  }
 ],
 "metadata": {
  "kernelspec": {
   "display_name": "Python 3",
   "language": "python",
   "name": "python3"
  },
  "language_info": {
   "codemirror_mode": {
    "name": "ipython",
    "version": 3
   },
   "file_extension": ".py",
   "mimetype": "text/x-python",
   "name": "python",
   "nbconvert_exporter": "python",
   "pygments_lexer": "ipython3",
   "version": "3.8.3"
  }
 },
 "nbformat": 4,
 "nbformat_minor": 4
}
